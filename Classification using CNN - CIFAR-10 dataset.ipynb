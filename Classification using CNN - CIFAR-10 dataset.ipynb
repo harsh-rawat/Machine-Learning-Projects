{
 "cells": [
  {
   "cell_type": "markdown",
   "metadata": {},
   "source": [
    "Re-implementation of Image classification CIFAR-10 dataset"
   ]
  },
  {
   "cell_type": "code",
   "execution_count": 16,
   "metadata": {},
   "outputs": [],
   "source": [
    "#Imports block\n",
    "import torch\n",
    "import torch.nn as nn\n",
    "import torch.nn.functional as F\n",
    "import torch.optim as optim\n",
    "from torchvision import datasets, transforms\n",
    "\n",
    "%matplotlib inline\n",
    "import matplotlib.pyplot as plt\n",
    "\n",
    "from random import shuffle\n",
    "\n",
    "import gc"
   ]
  },
  {
   "cell_type": "code",
   "execution_count": 17,
   "metadata": {},
   "outputs": [],
   "source": [
    "#Parameters\n",
    "validation_set_size = 0.15\n",
    "batch_size = 20\n",
    "learning_rate = 0.02\n",
    "epoch = 10\n",
    "\n",
    "run_on_gpu = True"
   ]
  },
  {
   "cell_type": "code",
   "execution_count": 18,
   "metadata": {},
   "outputs": [
    {
     "name": "stdout",
     "output_type": "stream",
     "text": [
      "Files already downloaded and verified\n"
     ]
    }
   ],
   "source": [
    "# import dataset\n",
    "transform = transforms.Compose([\n",
    "        transforms.ToTensor(),\n",
    "        transforms.Normalize((0.5,0.5,0.5),(0.5,0.5,0.5))\n",
    "])\n",
    "\n",
    "cifarTrain = datasets.CIFAR10(root='data',download=True,train=True, transform=transform)\n",
    "cifarTest = datasets.CIFAR10(root='data',download=False,train=True, transform=transform)"
   ]
  },
  {
   "cell_type": "markdown",
   "metadata": {},
   "source": [
    "Nice information about Normalize\n",
    "https://discuss.pytorch.org/t/how-should-i-convert-tensor-image-range-1-1-to-0-1/26792/2"
   ]
  },
  {
   "cell_type": "code",
   "execution_count": 19,
   "metadata": {},
   "outputs": [
    {
     "name": "stdout",
     "output_type": "stream",
     "text": [
      "[31079, 46430, 30511, 7696, 9857, 6656, 24987, 46017, 47030]\n",
      "7500\n",
      "Validation Set Size : 7500 and Training Set Size : 42500\n"
     ]
    }
   ],
   "source": [
    "#Creating Validation and Training Set\n",
    "\n",
    "index = list(range(len(cifarTrain)))\n",
    "shuffle(index)\n",
    "print(index[1:10])\n",
    "\n",
    "valid_len = int(len(cifarTrain)*validation_set_size)\n",
    "print(valid_len)\n",
    "\n",
    "validation_index = index[:valid_len]\n",
    "train_index = index[valid_len:]\n",
    "print('Validation Set Size : {} and Training Set Size : {}'.format(len(validation_index),len(train_index)))"
   ]
  },
  {
   "cell_type": "code",
   "execution_count": 20,
   "metadata": {},
   "outputs": [],
   "source": [
    "#We can add sampler argument to DataLoader so that it can pick from the indexes as provided to sampler\n",
    "train_sampler = torch.utils.data.SubsetRandomSampler(train_index)\n",
    "validation_sampler = torch.utils.data.SubsetRandomSampler(validation_index)"
   ]
  },
  {
   "cell_type": "code",
   "execution_count": 21,
   "metadata": {},
   "outputs": [],
   "source": [
    "trainloader = torch.utils.data.DataLoader(cifarTrain, sampler= train_sampler, batch_size= batch_size)\n",
    "validloader = torch.utils.data.DataLoader(cifarTrain, sampler= validation_sampler, batch_size= batch_size)\n",
    "testloader = torch.utils.data.DataLoader(cifarTest, shuffle= True, batch_size = batch_size)"
   ]
  },
  {
   "cell_type": "markdown",
   "metadata": {},
   "source": [
    "Till Now we have loaded the data, applied transforms on it and then created train, validation and test sets\n",
    "\n",
    "Next, the tasks we have to do are -\n",
    "1. Define Neural Network class : SImilar to VGG 16\n",
    "    2 conv + pool\n",
    "    3 conv + pool\n",
    "    FC 1\n",
    "    FC 2\n",
    "    Log Softmax\n",
    "    \n",
    "2. Define loss function NNLoss\n",
    "3. Define optimizer\n",
    "4. Train the model\n",
    "5. Find Validation error on the current model using different hyperparameters\n",
    "6. Find Test set error on the final model"
   ]
  },
  {
   "cell_type": "markdown",
   "metadata": {},
   "source": [
    "## Question : How should we select the best Model and other parameters of the model\n",
    "My choices were to use existing architecture or randomly select any architecture"
   ]
  },
  {
   "cell_type": "code",
   "execution_count": 22,
   "metadata": {},
   "outputs": [],
   "source": [
    "class ConvNetModel(nn.Module):\n",
    "    def __init__(self, input_depth, hidden_depth = 4, kernel_size = 3, pad = 1, stride = 1):\n",
    "        \n",
    "        super().__init__()\n",
    "        \n",
    "        #3 -> 16 \n",
    "        self.conv1_1 = nn.Conv2d(input_depth,hidden_depth*4,kernel_size,padding=pad,stride=stride)\n",
    "        #16 -> 32\n",
    "        self.conv1_2 = nn.Conv2d(hidden_depth*4,hidden_depth*8,kernel_size,padding=pad,stride=stride)\n",
    "        \n",
    "        self.maxpool = nn.MaxPool2d(2,2)\n",
    "        \n",
    "        #32 -> 64\n",
    "        self.conv2_1 = nn.Conv2d(hidden_depth*8, hidden_depth*16,kernel_size,padding=pad,stride=stride)\n",
    "        #64 -> 128\n",
    "        self.conv2_2 = nn.Conv2d(hidden_depth*16, hidden_depth*32,kernel_size,padding=pad,stride=stride)\n",
    "        #128 -> 256\n",
    "        self.conv2_3 = nn.Conv2d(hidden_depth*32, hidden_depth*64,kernel_size,padding=pad,stride=stride)\n",
    "        \n",
    "        self.dropout = nn.Dropout(p=0.2)\n",
    "        \n",
    "        #self.linear_1 = nn.Linear(16384,256)\n",
    "        self.linear_1 = nn.Linear(8192,256)\n",
    "        self.linear_2 = nn.Linear(256,10)\n",
    "        \n",
    "    def forward(self,x):\n",
    "        \n",
    "        x = F.relu(self.conv1_1(x),0.2)\n",
    "        x = F.relu(self.conv1_2(x),0.2)\n",
    "        \n",
    "        x = self.maxpool(x)\n",
    "        \n",
    "        x = F.relu(self.conv2_1(x),0.2)\n",
    "        x = F.relu(self.conv2_2(x),0.2)\n",
    "        #x = F.relu(self.conv2_3(x),0.2)\n",
    "        \n",
    "        x = self.maxpool(x)\n",
    "        \n",
    "        #x = x.view(-1,16384)\n",
    "        x = x.view(-1,8192)\n",
    "        x = self.dropout(x)\n",
    "        x = F.relu(self.linear_1(x),0.2)\n",
    "        x = self.dropout(x)\n",
    "        x = F.log_softmax(self.linear_2(x),dim=1)\n",
    "        \n",
    "        return x\n",
    "        "
   ]
  },
  {
   "cell_type": "code",
   "execution_count": 23,
   "metadata": {},
   "outputs": [
    {
     "data": {
      "text/plain": [
       "ConvNetModel(\n",
       "  (conv1_1): Conv2d(3, 16, kernel_size=(3, 3), stride=(1, 1), padding=(1, 1))\n",
       "  (conv1_2): Conv2d(16, 32, kernel_size=(3, 3), stride=(1, 1), padding=(1, 1))\n",
       "  (maxpool): MaxPool2d(kernel_size=2, stride=2, padding=0, dilation=1, ceil_mode=False)\n",
       "  (conv2_1): Conv2d(32, 64, kernel_size=(3, 3), stride=(1, 1), padding=(1, 1))\n",
       "  (conv2_2): Conv2d(64, 128, kernel_size=(3, 3), stride=(1, 1), padding=(1, 1))\n",
       "  (conv2_3): Conv2d(128, 256, kernel_size=(3, 3), stride=(1, 1), padding=(1, 1))\n",
       "  (dropout): Dropout(p=0.2)\n",
       "  (linear_1): Linear(in_features=8192, out_features=256, bias=True)\n",
       "  (linear_2): Linear(in_features=256, out_features=10, bias=True)\n",
       ")"
      ]
     },
     "execution_count": 23,
     "metadata": {},
     "output_type": "execute_result"
    }
   ],
   "source": [
    "model = None\n",
    "gc.collect()\n",
    "model = ConvNetModel(3)\n",
    "\n",
    "if run_on_gpu == True:\n",
    "    model.cuda()\n",
    "\n",
    "model"
   ]
  },
  {
   "cell_type": "code",
   "execution_count": 24,
   "metadata": {},
   "outputs": [],
   "source": [
    "#Loss Function and Optimizer\n",
    "optimizer = optim.SGD(model.parameters(),lr = learning_rate)\n",
    "loss_func = nn.NLLLoss()"
   ]
  },
  {
   "cell_type": "code",
   "execution_count": 25,
   "metadata": {},
   "outputs": [],
   "source": [
    "def train_model(epoch = 50, run_on_gpu = False):\n",
    "    train_loss = []\n",
    "    validation_loss = []\n",
    "    \n",
    "    for i in range(epoch):\n",
    "        calc_loss = 0\n",
    "        model.train()\n",
    "        for images, labels in trainloader:\n",
    "            if run_on_gpu == True:\n",
    "                images = images.cuda()\n",
    "                labels = labels.cuda()\n",
    "            \n",
    "            optimizer.zero_grad()\n",
    "            \n",
    "            pred = model(images)\n",
    "            \n",
    "            loss = loss_func(pred,labels)\n",
    "            loss.backward()\n",
    "            optimizer.step()\n",
    "            \n",
    "            calc_loss += loss\n",
    "            \n",
    "            if run_on_gpu == True:\n",
    "                del images, labels, pred, loss\n",
    "                gc.collect()\n",
    "        \n",
    "        valid_loss = 0\n",
    "        model.eval()\n",
    "        \n",
    "        for images_valid, labels_valid in validloader:\n",
    "            \n",
    "            with torch.no_grad():\n",
    "                if run_on_gpu == True:\n",
    "                    images_valid = images_valid.cuda()\n",
    "                    labels_valid = labels_valid.cuda()\n",
    "\n",
    "                pred_valid = model(images_valid)\n",
    "                loss_valid = loss_func(pred_valid,labels_valid)\n",
    "\n",
    "                valid_loss += loss_valid\n",
    "\n",
    "                if run_on_gpu == True:\n",
    "                    del images_valid, labels_valid, pred_valid, loss_valid\n",
    "                    gc.collect()\n",
    "\n",
    "        validation_loss.append(valid_loss/len(validloader))\n",
    "        train_loss.append(calc_loss/len(trainloader))\n",
    "        print('Training loss after {} epoch is {} and Validation loss is {}'.format(i+1,calc_loss/len(trainloader), valid_loss/len(validloader)))\n",
    "    \n",
    "    return (train_loss,validation_loss)"
   ]
  },
  {
   "cell_type": "code",
   "execution_count": 12,
   "metadata": {},
   "outputs": [
    {
     "name": "stdout",
     "output_type": "stream",
     "text": [
      "Training loss after 1 epoch is 1.850961685180664 and Validation loss is 1.7243943214416504\n",
      "Training loss after 2 epoch is 1.3948643207550049 and Validation loss is 1.203596591949463\n",
      "Training loss after 3 epoch is 1.1780731678009033 and Validation loss is 1.0443751811981201\n",
      "Training loss after 4 epoch is 0.9945945739746094 and Validation loss is 0.9313376545906067\n",
      "Training loss after 5 epoch is 0.8442202210426331 and Validation loss is 0.8545878529548645\n",
      "Training loss after 6 epoch is 0.7159696221351624 and Validation loss is 0.7794846296310425\n",
      "Training loss after 7 epoch is 0.6032129526138306 and Validation loss is 0.7990761399269104\n",
      "Training loss after 8 epoch is 0.4978007376194 and Validation loss is 0.7913150787353516\n",
      "Training loss after 9 epoch is 0.4054865539073944 and Validation loss is 0.7911463975906372\n",
      "Training loss after 10 epoch is 0.3259758949279785 and Validation loss is 0.8071067333221436\n",
      "Training loss after 11 epoch is 0.2667950391769409 and Validation loss is 0.8853158354759216\n",
      "Training loss after 12 epoch is 0.22167561948299408 and Validation loss is 0.9204652309417725\n",
      "Training loss after 13 epoch is 0.19052164256572723 and Validation loss is 0.9435439109802246\n",
      "Training loss after 14 epoch is 0.16349367797374725 and Validation loss is 0.9836675524711609\n",
      "Training loss after 15 epoch is 0.14218230545520782 and Validation loss is 1.068241834640503\n"
     ]
    }
   ],
   "source": [
    "#torch.cuda.empty_cache()\n",
    "train_loss, valid_loss = train_model(15,run_on_gpu)"
   ]
  },
  {
   "cell_type": "code",
   "execution_count": 13,
   "metadata": {},
   "outputs": [
    {
     "data": {
      "image/png": "[encoded data removed]",
      "text/plain": [
       "<Figure size 432x288 with 1 Axes>"
      ]
     },
     "metadata": {
      "needs_background": "light"
     },
     "output_type": "display_data"
    }
   ],
   "source": [
    "plt.plot(train_loss, label = 'Training Loss')\n",
    "plt.plot(valid_loss, label = 'Validation Loss')\n",
    "plt.legend()\n",
    "plt.show()"
   ]
  },
  {
   "cell_type": "code",
   "execution_count": null,
   "metadata": {
    "scrolled": true
   },
   "outputs": [],
   "source": [
    "torch.cuda.empty_cache()\n",
    "gc.collect()"
   ]
  },
  {
   "cell_type": "code",
   "execution_count": 14,
   "metadata": {},
   "outputs": [],
   "source": [
    "def get_test_accuracy():\n",
    "    with torch.no_grad():\n",
    "        correct = 0\n",
    "        total = 0\n",
    "        for image_test, label_test in testloader:\n",
    "            if run_on_gpu == True:\n",
    "                image_test = image_test.cuda()\n",
    "                label_test = label_test.cuda()\n",
    "            \n",
    "            total += len(label_test)\n",
    "            pred_test = model(image_test)\n",
    "            _, predictions = torch.max(pred_test,1)\n",
    "            correct += (predictions == label_test).sum().item()\n",
    "    return (correct*100.0)/total\n"
   ]
  },
  {
   "cell_type": "code",
   "execution_count": 29,
   "metadata": {},
   "outputs": [
    {
     "data": {
      "text/plain": [
       "69.422"
      ]
     },
     "execution_count": 29,
     "metadata": {},
     "output_type": "execute_result"
    }
   ],
   "source": [
    "get_test_accuracy()\n",
    "#95.5% accuracy on test set when trained for 15 epochs\n",
    "#69.42% accuracy when trained for 4 epochs"
   ]
  },
  {
   "cell_type": "code",
   "execution_count": 27,
   "metadata": {},
   "outputs": [
    {
     "name": "stdout",
     "output_type": "stream",
     "text": [
      "Training loss after 1 epoch is 1.8770772218704224 and Validation loss is 1.5516940355300903\n",
      "Training loss after 2 epoch is 1.4012296199798584 and Validation loss is 1.3141329288482666\n",
      "Training loss after 3 epoch is 1.1867622137069702 and Validation loss is 1.1289939880371094\n",
      "Training loss after 4 epoch is 1.0149348974227905 and Validation loss is 0.9885300993919373\n"
     ]
    }
   ],
   "source": [
    "#torch.cuda.empty_cache()\n",
    "train_loss, valid_loss = train_model(4,run_on_gpu)"
   ]
  },
  {
   "cell_type": "code",
   "execution_count": 28,
   "metadata": {},
   "outputs": [
    {
     "data": {
      "image/png": "[encoded data removed]",
      "text/plain": [
       "<Figure size 432x288 with 1 Axes>"
      ]
     },
     "metadata": {
      "needs_background": "light"
     },
     "output_type": "display_data"
    }
   ],
   "source": [
    "plt.plot(train_loss, label = 'Training Loss')\n",
    "plt.plot(valid_loss, label = 'Validation Loss')\n",
    "plt.legend()\n",
    "plt.show()"
   ]
  },
  {
   "cell_type": "markdown",
   "metadata": {},
   "source": [
    "#Few Things to think about\n",
    "1. "
   ]
  }
 ],
 "metadata": {
  "kernelspec": {
   "display_name": "Python 3",
   "language": "python",
   "name": "python3"
  },
  "language_info": {
   "codemirror_mode": {
    "name": "ipython",
    "version": 3
   },
   "file_extension": ".py",
   "mimetype": "text/x-python",
   "name": "python",
   "nbconvert_exporter": "python",
   "pygments_lexer": "ipython3",
   "version": "3.7.3"
  }
 },
 "nbformat": 4,
 "nbformat_minor": 2
}
