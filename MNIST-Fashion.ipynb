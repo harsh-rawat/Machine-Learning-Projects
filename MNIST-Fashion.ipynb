{
 "cells": [
  {
   "cell_type": "code",
   "execution_count": 4,
   "metadata": {},
   "outputs": [],
   "source": [
    "%matplotlib inline\n",
    "import torch\n",
    "import torch.nn as nn\n",
    "import torch.optim as optim\n",
    "from torchvision import datasets, transforms\n",
    "import matplotlib.pyplot as plt"
   ]
  },
  {
   "cell_type": "code",
   "execution_count": 5,
   "metadata": {},
   "outputs": [],
   "source": [
    "#Loading the dataset\n",
    "\n",
    "transform = transforms.Compose([transforms.ToTensor(),\n",
    "                               transforms.Normalize((0.5,),(0.5,))])\n",
    "\n",
    "trainset = datasets.FashionMNIST('C:/Users/harsh/.pytorch/F_MNIST_data/',download=True,train=True,transform=transform)\n",
    "trainloader = torch.utils.data.DataLoader(trainset,batch_size=64,shuffle=True)\n",
    "\n",
    "testset = datasets.FashionMNIST('C:/Users/harsh/.pytorch/F_MNIST_data/',download=True,train=False,transform=transform)\n",
    "testloader = torch.utils.data.DataLoader(testset,shuffle=True,batch_size=64)"
   ]
  },
  {
   "cell_type": "code",
   "execution_count": 22,
   "metadata": {},
   "outputs": [],
   "source": [
    "#Hyperparameters and model architecture\n",
    "\n",
    "input_features = 784\n",
    "hidden_units = [128,64,32,10]\n",
    "learning_rate = 0.003\n",
    "epoch = 20\n",
    "\n",
    "model = nn.Sequential(nn.Linear(input_features,hidden_units[0]),\n",
    "                     nn.ReLU(),\n",
    "                     nn.Linear(hidden_units[0],hidden_units[1]),\n",
    "                     nn.ReLU(),\n",
    "                     nn.Linear(hidden_units[1],hidden_units[2]),\n",
    "                     nn.ReLU(),\n",
    "                     nn.Linear(hidden_units[2],hidden_units[3]),\n",
    "                     nn.LogSoftmax(dim=1))\n",
    "model = model.cuda()\n",
    "\n",
    "criterion = nn.NLLLoss()\n",
    "optimizer = optim.SGD(model.parameters(),lr = learning_rate)"
   ]
  },
  {
   "cell_type": "code",
   "execution_count": 19,
   "metadata": {},
   "outputs": [],
   "source": [
    "def run_testset():\n",
    "    total_test = 0\n",
    "    correct = 0\n",
    "    for test_images, test_labels in testloader:\n",
    "        test_images = test_images.view(test_images.shape[0],-1)\n",
    "        test_images = test_images.cuda()\n",
    "        test_labels = test_labels.cuda()\n",
    "\n",
    "        total_test += len(test_labels)\n",
    "        with torch.no_grad():\n",
    "            logits = model(test_images)\n",
    "            loss = criterion(logits, test_labels)\n",
    "            _, predictions = torch.max(logits,1)\n",
    "            correct += (predictions == test_labels).sum().item()\n",
    "    return (correct/(total_test*1.0), loss)"
   ]
  },
  {
   "cell_type": "code",
   "execution_count": 23,
   "metadata": {},
   "outputs": [
    {
     "name": "stdout",
     "output_type": "stream",
     "text": [
      "Training Loss at epoch 1 is 2.2619402408599854 and Test Loss is 2.147155284881592\n",
      "Training Loss at epoch 2 is 1.8052126169204712 and Test Loss is 1.3882743120193481\n",
      "Training Loss at epoch 3 is 1.008415937423706 and Test Loss is 0.8025654554367065\n",
      "Training Loss at epoch 4 is 0.7596242427825928 and Test Loss is 1.119146466255188\n",
      "Training Loss at epoch 5 is 0.6529556512832642 and Test Loss is 0.4088863134384155\n",
      "Training Loss at epoch 6 is 0.5981671214103699 and Test Loss is 0.529026985168457\n",
      "Training Loss at epoch 7 is 0.56087327003479 and Test Loss is 0.16259801387786865\n",
      "Training Loss at epoch 8 is 0.5331131815910339 and Test Loss is 0.3256964385509491\n",
      "Training Loss at epoch 9 is 0.512169599533081 and Test Loss is 0.4408491849899292\n",
      "Training Loss at epoch 10 is 0.4944556951522827 and Test Loss is 0.212660551071167\n",
      "Training Loss at epoch 11 is 0.4805067479610443 and Test Loss is 0.47405052185058594\n",
      "Training Loss at epoch 12 is 0.4677165150642395 and Test Loss is 0.8137688636779785\n",
      "Training Loss at epoch 13 is 0.4572185277938843 and Test Loss is 0.881791353225708\n",
      "Training Loss at epoch 14 is 0.4472072720527649 and Test Loss is 0.3270331025123596\n",
      "Training Loss at epoch 15 is 0.4382714331150055 and Test Loss is 0.4159301519393921\n",
      "Training Loss at epoch 16 is 0.4299755096435547 and Test Loss is 0.5769309401512146\n",
      "Training Loss at epoch 17 is 0.4235740005970001 and Test Loss is 0.49068987369537354\n",
      "Training Loss at epoch 18 is 0.41622933745384216 and Test Loss is 0.35553663969039917\n",
      "Training Loss at epoch 19 is 0.4105296730995178 and Test Loss is 0.4696841239929199\n",
      "Training Loss at epoch 20 is 0.4042629897594452 and Test Loss is 0.2777442932128906\n"
     ]
    },
    {
     "data": {
      "image/png": "[encoded data removed]",
      "text/plain": [
       "<Figure size 432x288 with 1 Axes>"
      ]
     },
     "metadata": {
      "needs_background": "light"
     },
     "output_type": "display_data"
    },
    {
     "name": "stdout",
     "output_type": "stream",
     "text": [
      "Accuracy on test set is 0.8431\n"
     ]
    }
   ],
   "source": [
    "#Model training\n",
    "\n",
    "all_losses = []\n",
    "test_loss = []\n",
    "\n",
    "for ep in range(epoch):\n",
    "    total_loss = 0\n",
    "    \n",
    "    for images, labels in trainloader:\n",
    "        images = images.view(images.shape[0],-1)\n",
    "        images = images.cuda()\n",
    "        labels = labels.cuda()\n",
    "        optimizer.zero_grad()\n",
    "        logits = model(images)\n",
    "        loss = criterion(logits,labels)\n",
    "        loss.backward()\n",
    "        optimizer.step()\n",
    "        total_loss += loss\n",
    "    \n",
    "    test_accu, loss_test = run_testset()\n",
    "    all_losses.append(total_loss/len(trainloader))\n",
    "    test_loss.append(loss_test)\n",
    "    print('Training Loss at epoch {} is {} and Test Loss is {}'.format(ep+1,total_loss/len(trainloader), loss_test))\n",
    "\n",
    "    \n",
    "plt.plot(all_losses,label = 'Training Loss')\n",
    "plt.plot(test_loss, label = 'Test Loss')\n",
    "plt.legend()\n",
    "plt.show()\n",
    "    \n",
    "print('Accuracy on test set is {}'.format(run_testset()[0]))"
   ]
  },
  {
   "cell_type": "code",
   "execution_count": null,
   "metadata": {},
   "outputs": [],
   "source": []
  }
 ],
 "metadata": {
  "kernelspec": {
   "display_name": "Python 3",
   "language": "python",
   "name": "python3"
  },
  "language_info": {
   "codemirror_mode": {
    "name": "ipython",
    "version": 3
   },
   "file_extension": ".py",
   "mimetype": "text/x-python",
   "name": "python",
   "nbconvert_exporter": "python",
   "pygments_lexer": "ipython3",
   "version": "3.7.3"
  }
 },
 "nbformat": 4,
 "nbformat_minor": 2
}
