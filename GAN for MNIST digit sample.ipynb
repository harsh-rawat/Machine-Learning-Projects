{
 "cells": [
  {
   "cell_type": "code",
   "execution_count": 70,
   "metadata": {},
   "outputs": [],
   "source": [
    "%matplotlib inline\n",
    "import numpy as np\n",
    "import torch\n",
    "import torch.nn as nn\n",
    "from torchvision import datasets, transforms\n",
    "import torch.nn.functional as F\n",
    "import torch.optim as optim\n",
    "import matplotlib.pyplot as plt"
   ]
  },
  {
   "cell_type": "code",
   "execution_count": 35,
   "metadata": {},
   "outputs": [],
   "source": [
    "#Importing the data\n",
    "transform = transforms.Compose([transforms.ToTensor()])\n",
    "\n",
    "traindata = datasets.MNIST(root='data', download=True, train=True, transform=transform)\n",
    "trainloader = torch.utils.data.DataLoader(traindata, batch_size=64, shuffle=True)"
   ]
  },
  {
   "cell_type": "code",
   "execution_count": 29,
   "metadata": {},
   "outputs": [],
   "source": [
    "#Generator Model\n",
    "class Generator(nn.Module):\n",
    "    def __init__(self, input_layer,hidden_layer, output_layer):\n",
    "        super().__init__()\n",
    "        \n",
    "        self.fc1 = nn.Linear(input_layer,hidden_layer*4)\n",
    "        self.fc2 = nn.Linear(hidden_layer*4,hidden_layer*2)\n",
    "        self.fc3 = nn.Linear(hidden_layer*2,hidden_layer)\n",
    "        self.fc4 = nn.Linear(hidden_layer,output_layer)\n",
    "        \n",
    "        self.dropout = nn.Dropout(p=0.3)\n",
    "    \n",
    "    def forward(self,x):\n",
    "        \n",
    "        x = F.leaky_relu(self.fc1(x),0.2)\n",
    "        x = self.dropout(x)\n",
    "        x = F.leaky_relu(self.fc2(x),0.2)\n",
    "        x = self.dropout(x)\n",
    "        x = F.leaky_relu(self.fc3(x),0,2)\n",
    "        x = self.dropout(x)\n",
    "        \n",
    "        x = F.tanh(self.fc4(x))\n",
    "        return x\n",
    "\n",
    "#Discriminator Model\n",
    "class Discriminator(nn.Module):\n",
    "    def __init__(self, input_layer, hidden_layer, output_layer):\n",
    "        super().__init__();\n",
    "        \n",
    "        self.fc1 = nn.Linear(input_layer,hidden_layer*4)\n",
    "        self.fc2 = nn.Linear(hidden_layer*4,hidden_layer*2)\n",
    "        self.fc3 = nn.Linear(hidden_layer*2,hidden_layer)\n",
    "        self.fc4 = nn.Linear(hidden_layer,output_layer)\n",
    "        \n",
    "        self.dropout = nn.Dropout(p=0.3)\n",
    "    \n",
    "    def forward(self, x):\n",
    "        \n",
    "        x = x.view(x.shape[0],-1)\n",
    "        \n",
    "        x = F.leaky_relu(self.fc1(x),0.2)\n",
    "        x = self.dropout(x)\n",
    "        x = F.leaky_relu(self.fc2(x),0.2)\n",
    "        x = self.dropout(x)\n",
    "        x = F.leaky_relu(self.fc3(x),0,2)\n",
    "        x = self.dropout(x)\n",
    "        \n",
    "        x = self.fc4(x)\n",
    "        return x"
   ]
  },
  {
   "cell_type": "code",
   "execution_count": 37,
   "metadata": {},
   "outputs": [],
   "source": [
    "#Loss Functions - Real and Fake\n",
    "\n",
    "#Use One-Sided label smoothening for real labels\n",
    "def real_loss(out, smooth = True):\n",
    "    \n",
    "    labels = torch.ones(out.size(0))\n",
    "    if smooth == True:\n",
    "        labels = labels*0.9\n",
    "    \n",
    "    criterion = nn.BCEWithLogitsLoss()\n",
    "    loss = criterion(out.squeeze(),labels)\n",
    "    return loss\n",
    "\n",
    "def fake_loss(out):\n",
    "    \n",
    "    labels = torch.zeros(out.size(0))\n",
    "    criterion = nn.BCEWithLogitsLoss()\n",
    "    loss = criterion(out.squeeze(),labels)\n",
    "    return loss"
   ]
  },
  {
   "cell_type": "code",
   "execution_count": 31,
   "metadata": {},
   "outputs": [],
   "source": [
    "#Model Hyperparameters, Models and Optimizers\n",
    "\n",
    "#Generator\n",
    "gen_input = 100\n",
    "gen_hidden = 32\n",
    "gen_output = 784\n",
    "\n",
    "#Discriminator\n",
    "dis_input = 784\n",
    "dis_hidden = 32\n",
    "dis_output = 1\n",
    "\n",
    "#Models\n",
    "gen = Generator(gen_input, gen_hidden, gen_output)\n",
    "dis = Discriminator(dis_input, dis_hidden, dis_output)\n",
    "\n",
    "#Optimizers\n",
    "# We will use SGD optimizers\n",
    "gen_opti = optim.SGD(gen.parameters(), lr = 0.002)\n",
    "dis_opti = optim.SGD(dis.parameters(), lr = 0.002)"
   ]
  },
  {
   "cell_type": "code",
   "execution_count": 67,
   "metadata": {},
   "outputs": [],
   "source": [
    "def train_model(epoch = 300, print_message = False):\n",
    "    sample = 2 * torch.randn(1,gen_input) -1\n",
    "    images_generated = []\n",
    "    gen_loss_all = []\n",
    "    dis_loss_all = []\n",
    "    for ep in range(epoch):\n",
    "        for real, labels in trainloader:\n",
    "            #Scaling from [0,1] to [-1,1]\n",
    "            #NewValue = (((OldValue - OldMin) * (NewMax - NewMin)) / (OldMax - OldMin)) + NewMin\n",
    "            real = real*2 - 1\n",
    "            m = real.size(0)\n",
    "\n",
    "            dis.train()\n",
    "            gen.train()\n",
    "            ### Train the Discriminator ###\n",
    "\n",
    "            dis_opti.zero_grad()\n",
    "\n",
    "            # Find loss on real sample and then create fake sample and find its loss\n",
    "            dis_loss = real_loss(dis(real))\n",
    "            fake_sample = gen(2*torch.randn(m, gen_input) - 1)\n",
    "            dis_loss += fake_loss(dis(fake_sample))\n",
    "\n",
    "            dis_loss.backward()\n",
    "            dis_opti.step()\n",
    "\n",
    "            ### Train the generator ###\n",
    "\n",
    "            gen_opti.zero_grad()\n",
    "\n",
    "            fake_sample = gen(2*torch.randn(m, gen_input) - 1)\n",
    "            gen_loss = real_loss(dis(fake_sample), smooth = False)\n",
    "            \n",
    "            gen_loss.backward()\n",
    "            gen_opti.step()\n",
    "        \n",
    "        if print_message == True:\n",
    "            print('After epoch {}, Generator loss is {} and Discriminator loss is {}'.format(ep,gen_loss.item(), dis_loss.item()))\n",
    "        with torch.no_grad():\n",
    "            images_generated.append(gen(sample))\n",
    "            gen_loss_all.append(gen_loss)\n",
    "            dis_loss_all.append(dis_loss)\n",
    "    return (images_generated, gen_loss_all, dis_loss_all);"
   ]
  },
  {
   "cell_type": "code",
   "execution_count": 79,
   "metadata": {},
   "outputs": [],
   "source": [
    "generated = train_model(50)"
   ]
  },
  {
   "cell_type": "code",
   "execution_count": 82,
   "metadata": {},
   "outputs": [],
   "source": [
    "def display_loss(gen_loss, dis_loss):\n",
    "    plt.plot(gen_loss,label='Generator Loss')\n",
    "    plt.plot(dis_loss, label = 'Discriminator Loss')\n",
    "    plt.legend()\n",
    "    plt.show()\n",
    "    \n",
    "def display_image(image):\n",
    "    image = image.view(28,28)\n",
    "    plt.imshow(image)"
   ]
  },
  {
   "cell_type": "code",
   "execution_count": 83,
   "metadata": {},
   "outputs": [
    {
     "data": {
      "image/png": "[encoded data removed]",
      "text/plain": [
       "<Figure size 432x288 with 1 Axes>"
      ]
     },
     "metadata": {
      "needs_background": "light"
     },
     "output_type": "display_data"
    }
   ],
   "source": [
    "display_loss(generated[1],generated[2])"
   ]
  },
  {
   "cell_type": "code",
   "execution_count": 88,
   "metadata": {
    "scrolled": true
   },
   "outputs": [
    {
     "data": {
      "image/png": "[encoded data removed]",
      "text/plain": [
       "<Figure size 432x288 with 1 Axes>"
      ]
     },
     "metadata": {
      "needs_background": "light"
     },
     "output_type": "display_data"
    }
   ],
   "source": [
    "display_image(generated[0][49])"
   ]
  },
  {
   "cell_type": "code",
   "execution_count": 96,
   "metadata": {},
   "outputs": [
    {
     "data": {
      "image/png": "[encoded data removed]",
      "text/plain": [
       "<Figure size 432x288 with 1 Axes>"
      ]
     },
     "metadata": {
      "needs_background": "light"
     },
     "output_type": "display_data"
    }
   ],
   "source": [
    "with torch.no_grad():\n",
    "    gen.eval()\n",
    "    img = gen(2*torch.randn(1, gen_input) - 1)\n",
    "    display_image(img)"
   ]
  },
  {
   "cell_type": "code",
   "execution_count": null,
   "metadata": {},
   "outputs": [],
   "source": []
  }
 ],
 "metadata": {
  "kernelspec": {
   "display_name": "Python 3",
   "language": "python",
   "name": "python3"
  },
  "language_info": {
   "codemirror_mode": {
    "name": "ipython",
    "version": 3
   },
   "file_extension": ".py",
   "mimetype": "text/x-python",
   "name": "python",
   "nbconvert_exporter": "python",
   "pygments_lexer": "ipython3",
   "version": "3.7.3"
  }
 },
 "nbformat": 4,
 "nbformat_minor": 2
}
